{
 "cells": [
  {
   "cell_type": "code",
   "execution_count": 1,
   "metadata": {},
   "outputs": [
    {
     "data": {
      "text/html": [
       "<div id=\"glowscript\" class=\"glowscript\"></div>"
      ],
      "text/plain": [
       "<IPython.core.display.HTML object>"
      ]
     },
     "metadata": {},
     "output_type": "display_data"
    },
    {
     "data": {
      "application/javascript": [
       "if (typeof Jupyter !== \"undefined\") { window.__context = { glowscript_container: $(\"#glowscript\").removeAttr(\"id\")};}else{ element.textContent = ' ';}"
      ],
      "text/plain": [
       "<IPython.core.display.Javascript object>"
      ]
     },
     "metadata": {},
     "output_type": "display_data"
    }
   ],
   "source": [
    "from vpython import *"
   ]
  },
  {
   "cell_type": "code",
   "execution_count": 21,
   "metadata": {},
   "outputs": [
    {
     "data": {
      "text/html": [
       "<div id=\"glowscript\" class=\"glowscript\"></div>"
      ],
      "text/plain": [
       "<IPython.core.display.HTML object>"
      ]
     },
     "metadata": {},
     "output_type": "display_data"
    },
    {
     "data": {
      "application/javascript": [
       "if (typeof Jupyter !== \"undefined\") { window.__context = { glowscript_container: $(\"#glowscript\").removeAttr(\"id\")};}else{ element.textContent = ' ';}"
      ],
      "text/plain": [
       "<IPython.core.display.Javascript object>"
      ]
     },
     "metadata": {},
     "output_type": "display_data"
    },
    {
     "name": "stdout",
     "output_type": "stream",
     "text": [
      "Ixx =  0.0020138468202473437  kg*m^2\n",
      "Ixy =  -0.0007539683725375484  kg*m^2\n",
      "Values from theory\n",
      "Ixx theory =  0.0020000000000000005  kg*m^2\n",
      "Ixy theory =  -0.0007500000000000001  kg*m^2\n",
      "Procentage of error, compared with theory\n",
      "Error-% -0.6923410123671703\n",
      "Error-% -0.5291163383397635\n"
     ]
    }
   ],
   "source": [
    "M=0.3\n",
    "a=.1\n",
    "\n",
    "N=10000\n",
    "\n",
    "dm=M/N\n",
    "n=0\n",
    "Ixx=0\n",
    "Ixy=0\n",
    "\n",
    "canvas()\n",
    "\n",
    "while n<N:\n",
    "    rtemp = a*vector(random(),random(),random())\n",
    "    Ixx=dm*(rtemp.y**2+rtemp.z**2)+Ixx\n",
    "    Ixy=Ixy-dm*rtemp.x*rtemp.y\n",
    "    sphere (pos = rtemp, radius = a/50)\n",
    "    n=n+1\n",
    "    \n",
    "print(\"Ixx = \",Ixx,\" kg*m^2\")\n",
    "print(\"Ixy = \",Ixy,\" kg*m^2\")\n",
    "\n",
    "#Theory results marked with t\n",
    "\n",
    "Ixxt=2*M*a**2/3\n",
    "Ixyt= -M*a**2/4\n",
    "\n",
    "print(\"Values from theory\")\n",
    "print(\"Ixx theory = \", Ixxt, \" kg*m^2\")\n",
    "print(\"Ixy theory = \", Ixyt, \" kg*m^2\")\n",
    "\n",
    "print(\"Procentage of error, compared with theory\")\n",
    "eIxx=1-Ixx/Ixxt\n",
    "eIxy=1-Ixy/Ixyt\n",
    "print(\"Error-%\",eIxx*100)\n",
    "print(\"Error-%\",eIxy*100)"
   ]
  },
  {
   "cell_type": "code",
   "execution_count": null,
   "metadata": {},
   "outputs": [],
   "source": []
  }
 ],
 "metadata": {
  "kernelspec": {
   "display_name": "Python 3 (ipykernel)",
   "language": "python",
   "name": "python3"
  },
  "language_info": {
   "codemirror_mode": {
    "name": "ipython",
    "version": 3
   },
   "file_extension": ".py",
   "mimetype": "text/x-python",
   "name": "python",
   "nbconvert_exporter": "python",
   "pygments_lexer": "ipython3",
   "version": "3.11.4"
  }
 },
 "nbformat": 4,
 "nbformat_minor": 2
}
